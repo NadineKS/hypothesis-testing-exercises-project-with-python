{
  "nbformat": 4,
  "nbformat_minor": 0,
  "metadata": {
    "colab": {
      "provenance": []
    },
    "kernelspec": {
      "name": "python3",
      "display_name": "Python 3"
    },
    "language_info": {
      "name": "python"
    }
  },
  "cells": [
    {
      "cell_type": "markdown",
      "source": [
        "#All Imports"
      ],
      "metadata": {
        "id": "7Iji9d1EnTER"
      }
    },
    {
      "cell_type": "code",
      "execution_count": 1,
      "metadata": {
        "id": "FKEvdPRmm0AU"
      },
      "outputs": [],
      "source": [
        "import scipy.stats as stats\n",
        "import numpy as np\n",
        "from statsmodels.stats.multicomp import pairwise_tukeyhsd"
      ]
    },
    {
      "cell_type": "markdown",
      "source": [
        "#Exercise 1"
      ],
      "metadata": {
        "id": "dv8hRR-Vndr3"
      }
    },
    {
      "cell_type": "markdown",
      "source": [
        "*   Null hypothesis: There is no difference in average weight loss between the two diets.\n",
        "*   Alternative hypothesis: There is a difference in average weight loss between the two diets."
      ],
      "metadata": {
        "id": "xd4d6Hezn6ui"
      }
    },
    {
      "cell_type": "code",
      "source": [
        "diet_1 = [2.0, 2.5, 3.0, 2.8, 2.3, 2.7, 2.5]\n",
        "diet_2 = [3.0, 3.2, 3.1, 2.9, 2.8, 3.0, 3.2]\n",
        "t_value, p_value = stats.ttest_ind(diet_1, diet_2)\n",
        "print(f\"t-value: {t_value}\")\n",
        "print(f\"p-value: {p_value}\")"
      ],
      "metadata": {
        "colab": {
          "base_uri": "https://localhost:8080/"
        },
        "id": "t5ICTUnaneze",
        "outputId": "30718236-0450-4b94-b5f8-fb2affbb80ab"
      },
      "execution_count": 2,
      "outputs": [
        {
          "output_type": "stream",
          "name": "stdout",
          "text": [
            "t-value: -3.5383407969933938\n",
            "p-value: 0.004083270191713912\n"
          ]
        }
      ]
    },
    {
      "cell_type": "markdown",
      "source": [
        "Conclusion:\n",
        "Because we obtained a p-value below the selected significance level of 5% (0.05), we would reject the null hypothesis and assert that there is a notable difference in weight loss between the two diets.\n",
        "Conversely, if the p-value were higher, we would keep the null hypothesis, indicating the absence of a significant difference."
      ],
      "metadata": {
        "id": "8RKvBGfRodVT"
      }
    },
    {
      "cell_type": "markdown",
      "source": [
        "#Exercise 2"
      ],
      "metadata": {
        "id": "1IEJQKP-nfFp"
      }
    },
    {
      "cell_type": "markdown",
      "source": [
        "*   Null hypothesis: The corn yield averages of the three fertilizers are equal.\n",
        "*   Alternative hypothesis: At least one of the fertilizer corn yield averages is different."
      ],
      "metadata": {
        "id": "JWnrox6spJrb"
      }
    },
    {
      "cell_type": "code",
      "source": [
        "fertilizer_1 = [20, 21, 20, 19, 20]\n",
        "fertilizer_2 = [22, 21, 23, 22, 21]\n",
        "fertilizer_3 = [24, 23, 22, 23, 24]\n",
        "f_value, p_value = stats.f_oneway(fertilizer_1, fertilizer_2, fertilizer_3)\n",
        "print(f\"f-value: {f_value}\")\n",
        "print(f\"p-value: {p_value}\")"
      ],
      "metadata": {
        "colab": {
          "base_uri": "https://localhost:8080/"
        },
        "id": "rRDl9kIZpO9B",
        "outputId": "95244eac-f746-4050-cd88-15c55a48be20"
      },
      "execution_count": 3,
      "outputs": [
        {
          "output_type": "stream",
          "name": "stdout",
          "text": [
            "f-value: 20.315789473684188\n",
            "p-value: 0.00014047824793190475\n"
          ]
        }
      ]
    },
    {
      "cell_type": "markdown",
      "source": [
        "Conclusion: Because we obtained a value less than the established significance level (0.05), we reject the null hypothesis and conclude that there is a significant difference in the mean corn yield between at least two of the fertilizers."
      ],
      "metadata": {
        "id": "3bBGtu3lpWSc"
      }
    },
    {
      "cell_type": "code",
      "source": [
        "data = np.concatenate([fertilizer_1, fertilizer_2, fertilizer_3])\n",
        "labels = [\"F1\"] * 5 + [\"F2\"] * 5 + [\"F3\"] * 5\n",
        "\n",
        "result = pairwise_tukeyhsd(data, labels, alpha = 0.05)\n",
        "print(result)"
      ],
      "metadata": {
        "colab": {
          "base_uri": "https://localhost:8080/"
        },
        "id": "ochAH-dfpmbi",
        "outputId": "1a8af618-11a6-4775-905a-2578766d4d6c"
      },
      "execution_count": 4,
      "outputs": [
        {
          "output_type": "stream",
          "name": "stdout",
          "text": [
            "Multiple Comparison of Means - Tukey HSD, FWER=0.05\n",
            "==================================================\n",
            "group1 group2 meandiff p-adj  lower  upper  reject\n",
            "--------------------------------------------------\n",
            "    F1     F2      1.8 0.0099 0.4572 3.1428   True\n",
            "    F1     F3      3.2 0.0001 1.8572 4.5428   True\n",
            "    F2     F3      1.4 0.0409 0.0572 2.7428   True\n",
            "--------------------------------------------------\n"
          ]
        }
      ]
    },
    {
      "cell_type": "markdown",
      "source": [
        "If in the reject comlumn the value is True, then there is a statistically significant difference between those two groups. If there is a significant difference, we need to look at the meandiff column to see how much the means of the two groups differ. If the value is positive, it means that group2 has a higher mean than group1. If it is negative, the other way around.\n",
        "\n",
        "Conclusion: All fertilizers are significantly different. The third fertilizer has the highest average, followed by the second and ending with the first. Therefore,the third fertilizer would be the best."
      ],
      "metadata": {
        "id": "CmWK-DrApxHS"
      }
    }
  ]
}